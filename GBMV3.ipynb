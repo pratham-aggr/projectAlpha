{
 "cells": [
  {
   "cell_type": "code",
   "execution_count": 135,
   "id": "354878d6-8310-4f6b-96ee-7d5d927987e0",
   "metadata": {},
   "outputs": [],
   "source": [
    "import yfinance as yf\n",
    "import seaborn as sns\n",
    "import pandas  as pd\n",
    "import numpy as np\n",
    "import pandas_market_calendars as mcal\n",
    "import pytz\n",
    "\n",
    "import datetime\n",
    "import plotly.graph_objects as go\n",
    "import plotly.express as px\n",
    "from FMNM.BS_pricer import BS_pricer\n",
    "from FMNM.Parameters import Option_param\n",
    "from FMNM.Processes import Diffusion_process\n",
    "\n",
    "import scipy.stats as ss\n",
    "from scipy.integrate import quad\n",
    "from typing import List, Optional\n",
    "from scipy.stats import lognorm\n",
    "from scipy.stats import norm\n",
    "from functools import partial\n",
    "\n",
    "import matplotlib.pyplot as plt\n",
    "import matplotlib.dates as mdates\n",
    "\n",
    "%matplotlib inline\n",
    "\n",
    "from utils.gbm import GBMAnalyzer\n",
    "from utils.dataFetcher import OptionsDataFetcher as odf"
   ]
  },
  {
   "cell_type": "code",
   "execution_count": 136,
   "id": "40987326-80c2-47d8-99a0-86f8b0390705",
   "metadata": {},
   "outputs": [],
   "source": [
    "fetcher = odf('TSLA')\n",
    "stock_data = fetcher.fetch_stock_data(\"2022-04-18\", \"2025-05-18\")\n",
    "opts_data = fetcher.fetch_options_chain()\n",
    "opts_data_p = fetcher.fetch_options_chain(puts_only = True)\n",
    "opts_data_c = fetcher.fetch_options_chain(calls_only = True)\n",
    "# fetcher.save(stock_data, opts_data, path=\"retrivedData\", save_stock=True, save_options=True)"
   ]
  },
  {
   "cell_type": "code",
   "execution_count": 137,
   "id": "cb845841-ec0f-4c27-a3fc-3c8c067c3671",
   "metadata": {},
   "outputs": [],
   "source": [
    "nyse = mcal.get_calendar('NYSE')\n",
    "ny_tz = pytz.timezone('America/New_York')\n",
    "\n",
    "def trading_day_after_n_days(start_date, n_days):\n",
    "    \"\"\"\n",
    "    Returns the first NYSE trading day on or after (or on or before, if n_days < 0)\n",
    "    the date shifted by n_days. Always returns a trading day >= or <= the shifted date.\n",
    "    \"\"\"\n",
    "    # Shift the date by n_days\n",
    "    target_date = (start_date + pd.Timedelta(days=n_days)).normalize()\n",
    "\n",
    "    # Define search window (inclusive)\n",
    "    if n_days >= 0:\n",
    "        search_start = target_date\n",
    "        search_end = target_date + pd.Timedelta(days=15)\n",
    "    else:\n",
    "        search_start = target_date - pd.Timedelta(days=15)\n",
    "        search_end = target_date\n",
    "\n",
    "    # Get valid trading days in the range\n",
    "    schedule = nyse.valid_days(start_date=search_start, end_date=search_end)\n",
    "\n",
    "    if not schedule.empty:\n",
    "        selected_date = schedule[0] if n_days >= 0 else schedule[-1]\n",
    "        return selected_date.tz_convert(ny_tz)\n",
    "    else:\n",
    "        raise ValueError(f\"No trading day found in the expected window around {target_date}\")"
   ]
  },
  {
   "cell_type": "code",
   "execution_count": 138,
   "id": "7330337a-9018-44b4-92d6-3250f2e47fbe",
   "metadata": {},
   "outputs": [],
   "source": [
    "def mu_sig_annual(prices, t, days = 365):\n",
    "\n",
    "    # Step 1: Calculate daily log returns\n",
    "    log_returns = np.log(prices[1:] / prices[:-1])\n",
    "    \n",
    "    # Step 2: Calculate daily mean return and daily volatility\n",
    "    mu_daily = np.mean(log_returns)\n",
    "    sigma_daily = np.std(log_returns)\n",
    "    \n",
    "    # Step 3: Annualize drift and volatility assuming 252 trading days\n",
    "    mu = mu_daily * days * t\n",
    "    sigma = sigma_daily * np.sqrt(days * t)\n",
    "    return mu, sigma\n",
    "\n",
    "def drift_term(mu, sigma, t):\n",
    "    return (mu - 0.5 * sigma**2) * t\n",
    "\n",
    "def St(S0, mu, sigma, t):\n",
    "    Z = np.random.normal()  # standard normal random variable\n",
    "    return S0 * np.exp(drift_term(mu, sigma, t) + sigma * Z * np.sqrt(t))\n",
    "\n",
    "def predict_prices(prices, t, days = 365):\n",
    "    mu, sigma = mu_sig_annual(prices, t, days)\n",
    "    predicted = []\n",
    "    for S0 in prices:\n",
    "        predicted_price = St(S0, mu, sigma, t)\n",
    "        predicted.append(predicted_price)\n",
    "    return predicted"
   ]
  },
  {
   "cell_type": "code",
   "execution_count": 222,
   "id": "b2bb1ae4-6552-407b-a247-f28677b6a533",
   "metadata": {},
   "outputs": [],
   "source": [
    "def mu_sig_annual(prices, days=252):\n",
    "    log_returns = np.log(prices[1:] / prices[:-1])\n",
    "    mu_daily = np.mean(log_returns)\n",
    "    sigma_daily = np.std(log_returns)\n",
    "    mu = mu_daily * days\n",
    "    sigma = sigma_daily * np.sqrt(days)\n",
    "    return mu, sigma\n",
    "\n",
    "def simulate_gbm_path(S0, mu, sigma, t, steps=252):\n",
    "    dt = t / steps\n",
    "    prices = [S0]\n",
    "    for _ in range(steps):\n",
    "        Z = np.random.normal()\n",
    "        S_next = prices[-1] * np.exp((mu - 0.5 * sigma**2) * dt + sigma * Z * np.sqrt(dt))\n",
    "        prices.append(S_next)\n",
    "    return prices\n",
    "\n",
    "def predict_prices(prices, t, steps=252):\n",
    "    mu, sigma = mu_sig_annual(prices)\n",
    "    S0 = prices[-1]\n",
    "    return simulate_gbm_path(S0, mu, sigma, t, steps)\n"
   ]
  },
  {
   "cell_type": "code",
   "execution_count": 223,
   "id": "065a4f1a-88aa-466b-ac49-9ac9205ca3a7",
   "metadata": {},
   "outputs": [],
   "source": [
    "end_date_train = stock_data.index[300]\n",
    "t = 1\n",
    "days = 252\n",
    "start_date_train = trading_day_after_n_days(end_date_train, -t*days)\n",
    "start_date_test = trading_day_after_n_days(end_date_train,0)\n",
    "end_date_test = trading_day_after_n_days(start_date_test,t*days)"
   ]
  },
  {
   "cell_type": "code",
   "execution_count": 224,
   "id": "57b35ea4-24ef-49d0-9877-de69a967071f",
   "metadata": {},
   "outputs": [],
   "source": [
    "train_data = stock_data.loc[start_date_train:end_date_train]\n",
    "test_data = stock_data.loc[start_date_test:end_date_test]"
   ]
  },
  {
   "cell_type": "code",
   "execution_count": 225,
   "id": "b6fe802d-2fc4-44d6-ba64-c8dbadd54578",
   "metadata": {},
   "outputs": [],
   "source": [
    "initial_dates = np.array(train_data.index)\n",
    "pred_dates = [trading_day_after_n_days(date, t*days) for date in initial_dates]"
   ]
  },
  {
   "cell_type": "code",
   "execution_count": null,
   "id": "3d20cfa4-4061-4751-91ef-0a2a53f2658d",
   "metadata": {},
   "outputs": [],
   "source": []
  }
 ],
 "metadata": {
  "kernelspec": {
   "display_name": "Python 3 (ipykernel)",
   "language": "python",
   "name": "python3"
  },
  "language_info": {
   "codemirror_mode": {
    "name": "ipython",
    "version": 3
   },
   "file_extension": ".py",
   "mimetype": "text/x-python",
   "name": "python",
   "nbconvert_exporter": "python",
   "pygments_lexer": "ipython3",
   "version": "3.11.4"
  }
 },
 "nbformat": 4,
 "nbformat_minor": 5
}
