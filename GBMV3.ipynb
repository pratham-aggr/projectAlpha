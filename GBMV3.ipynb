{
 "cells": [
  {
   "cell_type": "code",
   "execution_count": 153,
   "id": "354878d6-8310-4f6b-96ee-7d5d927987e0",
   "metadata": {},
   "outputs": [],
   "source": [
    "import yfinance as yf\n",
    "import seaborn as sns\n",
    "import pandas  as pd\n",
    "import numpy as np\n",
    "import pandas_market_calendars as mcal\n",
    "import pytz\n",
    "\n",
    "from datetime import datetime\n",
    "import plotly.graph_objects as go\n",
    "import plotly.express as px\n",
    "from FMNM.BS_pricer import BS_pricer\n",
    "from FMNM.Parameters import Option_param\n",
    "from FMNM.Processes import Diffusion_process\n",
    "\n",
    "import scipy.stats as ss\n",
    "from scipy.integrate import quad\n",
    "from typing import List, Optional\n",
    "from scipy.stats import lognorm\n",
    "from scipy.stats import norm\n",
    "from functools import partial\n",
    "\n",
    "import matplotlib.pyplot as plt\n",
    "import matplotlib.dates as mdates\n",
    "\n",
    "%matplotlib inline\n",
    "\n",
    "from utils.gbm import GBMAnalyzer\n",
    "from utils.dataFetcher import OptionsDataFetcher as odf"
   ]
  },
  {
   "cell_type": "code",
   "execution_count": 154,
   "id": "40987326-80c2-47d8-99a0-86f8b0390705",
   "metadata": {},
   "outputs": [],
   "source": [
    "fetcher = odf('TSLA')\n",
    "stock_data = fetcher.fetch_stock_data(\"2022-01-01\", \"2025-05-18\")\n",
    "opts_data = fetcher.fetch_options_chain()\n",
    "opts_data_p = fetcher.fetch_options_chain(puts_only = True)\n",
    "opts_data_c = fetcher.fetch_options_chain(calls_only = True)\n",
    "# fetcher.save(stock_data, opts_data, path=\"retrivedData\", save_stock=True, save_options=True)"
   ]
  },
  {
   "cell_type": "code",
   "execution_count": 155,
   "id": "cb845841-ec0f-4c27-a3fc-3c8c067c3671",
   "metadata": {},
   "outputs": [],
   "source": [
    "nyse = mcal.get_calendar('NYSE')\n",
    "ny_tz = pytz.timezone('America/New_York')\n",
    "\n",
    "def trading_day_after_n_days(start_date, n_days):\n",
    "    \"\"\"\n",
    "    Returns the first NYSE trading day on or after (or on or before, if n_days < 0)\n",
    "    the date shifted by n_days. Always returns a trading day >= or <= the shifted date.\n",
    "    \"\"\"\n",
    "    # Shift the date by n_days\n",
    "    target_date = (start_date + pd.Timedelta(days=n_days)).normalize()\n",
    "\n",
    "    # Define search window (inclusive)\n",
    "    if n_days >= 0:\n",
    "        search_start = target_date\n",
    "        search_end = target_date + pd.Timedelta(days=15)\n",
    "    else:\n",
    "        search_start = target_date - pd.Timedelta(days=15)\n",
    "        search_end = target_date\n",
    "\n",
    "    # Get valid trading days in the range\n",
    "    schedule = nyse.valid_days(start_date=search_start, end_date=search_end)\n",
    "\n",
    "    if not schedule.empty:\n",
    "        selected_date = schedule[0] if n_days >= 0 else schedule[-1]\n",
    "        return selected_date.tz_convert(ny_tz)\n",
    "    else:\n",
    "        raise ValueError(f\"No trading day found in the expected window around {target_date}\")"
   ]
  },
  {
   "cell_type": "code",
   "execution_count": 156,
   "id": "065a4f1a-88aa-466b-ac49-9ac9205ca3a7",
   "metadata": {},
   "outputs": [],
   "source": [
    "end_date_train = pd.Timestamp(2023, 1, 3, tz=\"America/New_York\")\n",
    "t = 1\n",
    "days = 365\n",
    "start_date_train = trading_day_after_n_days(end_date_train, -t*days)\n",
    "start_date_test = trading_day_after_n_days(end_date_train,0)\n",
    "end_date_test = trading_day_after_n_days(end_date_train,t*days + 1)"
   ]
  },
  {
   "cell_type": "code",
   "execution_count": 157,
   "id": "57b35ea4-24ef-49d0-9877-de69a967071f",
   "metadata": {},
   "outputs": [],
   "source": [
    "train_data = stock_data.loc[start_date_train:end_date_train]\n",
    "test_data = stock_data.loc[end_date_train:end_date_test]"
   ]
  },
  {
   "cell_type": "code",
   "execution_count": 158,
   "id": "7330337a-9018-44b4-92d6-3250f2e47fbe",
   "metadata": {},
   "outputs": [],
   "source": [
    "def mu_sig_annual(prices, t, days = 365):\n",
    "\n",
    "    # Step 1: Calculate daily log returns\n",
    "    log_returns = np.log(prices[1:] / prices[:-1])\n",
    "    \n",
    "    # Step 2: Calculate daily mean return and daily volatility\n",
    "    mu_daily = np.mean(log_returns)\n",
    "    sigma_daily = np.std(log_returns)\n",
    "    \n",
    "    # Step 3: Annualize drift and volatility assuming 252 trading days\n",
    "    mu = mu_daily * days * t\n",
    "    sigma = sigma_daily * np.sqrt(days * t)\n",
    "    return mu, sigma\n",
    "\n",
    "def drift_term(mu, sigma, t):\n",
    "    return (mu - 0.5 * sigma**2) * t\n",
    "\n",
    "def St(S0, mu, sigma, t):\n",
    "    Z = np.random.normal()  # standard normal random variable\n",
    "    return S0 * np.exp(drift_term(mu, sigma, t) + sigma * Z * np.sqrt(t))\n",
    "\n",
    "def predict_prices(prices, t, days = 365):\n",
    "    mu, sigma = mu_sig_annual(prices, t, days)\n",
    "    predicted = []\n",
    "    for S0 in prices:\n",
    "        predicted_price = St(S0, mu, sigma, t)\n",
    "        predicted.append(predicted_price)\n",
    "    return predicted"
   ]
  },
  {
   "cell_type": "code",
   "execution_count": 159,
   "id": "86649321-3e5e-4c2c-8efa-b302cd179473",
   "metadata": {},
   "outputs": [],
   "source": [
    "def predicted(prices, t, days = 365):\n",
    "\n",
    "    # Step 1: Calculate daily log returns\n",
    "    log_returns = np.log(prices[1:] / prices[:-1])\n",
    "    \n",
    "    # Step 2: Calculate daily mean return and daily volatility\n",
    "    mu_daily = np.mean(log_returns)\n",
    "    sigma_daily = np.std(log_returns)\n",
    "    \n",
    "    # Step 3: Annualize drift and volatility assuming 252 trading days\n",
    "    mu = mu_daily * days * t\n",
    "    sigma = sigma_daily * np.sqrt(days * t)\n",
    "\n",
    "    Z = np.random.normal()\n",
    "\n",
    "    predicted  = np.array([S0 * np.exp((mu - (sigma**2)/2)*t + sigma * Z * np.sqrt(t)) for S0 in prices])\n",
    "    return predicted"
   ]
  },
  {
   "cell_type": "code",
   "execution_count": 160,
   "id": "401ce131-5d2e-4a31-b7e3-ba01c5febd02",
   "metadata": {},
   "outputs": [],
   "source": [
    "def simulate(prices, t, n, days = 365):\n",
    "    return np.array([predicted(prices, t) for _ in range(n)])"
   ]
  },
  {
   "cell_type": "code",
   "execution_count": 161,
   "id": "09143dc3-48eb-4e23-ba15-9b2c317a6acd",
   "metadata": {},
   "outputs": [],
   "source": [
    "prices = np.array(train_data['Close'])\n",
    "actual = np.array(test_data['Close'])\n",
    "dates = np.array(test_data.index)\n",
    "pred = predicted(prices, t)\n",
    "sim = simulate(prices, t, 1000)"
   ]
  },
  {
   "cell_type": "code",
   "execution_count": 162,
   "id": "da611815-77db-400d-bfa3-68e66d78a906",
   "metadata": {},
   "outputs": [],
   "source": [
    "sim_mean = np.mean(sim, axis = 0)"
   ]
  },
  {
   "cell_type": "code",
   "execution_count": 163,
   "id": "89baf923-3791-4e6a-b9dc-cd3ab7ca389d",
   "metadata": {},
   "outputs": [
    {
     "data": {
      "image/png": "[encoded data removed]",
      "text/plain": [
       "<Figure size 640x480 with 1 Axes>"
      ]
     },
     "metadata": {},
     "output_type": "display_data"
    }
   ],
   "source": [
    "plt.plot(dates, actual, label = 'actual')\n",
    "plt.plot(dates, sim_mean, label = 'mean')\n",
    "plt.legend()\n",
    "plt.show()"
   ]
  },
  {
   "cell_type": "code",
   "execution_count": 164,
   "id": "c9fdd0bf-6761-41a0-be23-ecd92851a012",
   "metadata": {},
   "outputs": [
    {
     "data": {
      "text/plain": [
       "399.9266662597656"
      ]
     },
     "execution_count": 164,
     "metadata": {},
     "output_type": "execute_result"
    }
   ],
   "source": [
    "prices[0]"
   ]
  }
 ],
 "metadata": {
  "kernelspec": {
   "display_name": "Python 3 (ipykernel)",
   "language": "python",
   "name": "python3"
  },
  "language_info": {
   "codemirror_mode": {
    "name": "ipython",
    "version": 3
   },
   "file_extension": ".py",
   "mimetype": "text/x-python",
   "name": "python",
   "nbconvert_exporter": "python",
   "pygments_lexer": "ipython3",
   "version": "3.11.4"
  }
 },
 "nbformat": 4,
 "nbformat_minor": 5
}
